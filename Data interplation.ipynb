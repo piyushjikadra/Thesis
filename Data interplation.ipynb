{
 "cells": [
  {
   "cell_type": "code",
   "execution_count": 13,
   "id": "37f05909-1f94-4d7f-bbff-740f9b790ecd",
   "metadata": {},
   "outputs": [
    {
     "name": "stdout",
     "output_type": "stream",
     "text": [
      "Processed data saved to D:\\Thesis\\2024\\OE-NMC10Ah-45SOC_ssss.xlsx\n"
     ]
    }
   ],
   "source": [
    "from scipy.interpolate import interp1d\n",
    "import pandas as pd\n",
    "import numpy as np\n",
    "\n",
    "data_df = pd.read_excel(r\"D:\\Thesis\\2024\\OE-NMC10Ah-45SOC.xlsx\")\n",
    "\n",
    "data_df['Time_temp'] = data_df['Time (sec) '].astype(float)\n",
    "data_df['Time_voltage'] = data_df['Time (second)'].astype(float)\n",
    "\n",
    "# Calculate the overlapping time range\n",
    "min_time = max(data_df['Time_temp'].min(), data_df['Time_voltage'].min())\n",
    "max_time = min(data_df['Time_temp'].max(), data_df['Time_voltage'].max())\n",
    "\n",
    "# reference time with a granularity of 0.1 seconds\n",
    "reference_time = np.arange(min_time, max_time, 0.1)\n",
    "reference_df = pd.DataFrame({'Reference Time (seconds)': reference_time})\n",
    "#print(f\"Length of reference_df: {len(reference_df)}\")\n",
    "#print(reference_df.head())\n",
    "\n",
    "# Synchronize the data_df length with reference_df\n",
    "if len(reference_df) < len(data_df):\n",
    "    data_df = data_df.iloc[:len(reference_df)].copy()\n",
    "\n",
    "data_df['Time(s)'] = reference_df['Reference Time (seconds)']\n",
    "\n",
    "# Interpolate Temperature and Voltage\n",
    "temp_interpolator = interp1d(\n",
    "    data_df['Time_temp'], data_df['TC1 (°C)'], \n",
    "    kind='linear', bounds_error=False, fill_value='extrapolate'\n",
    ")\n",
    "reference_df['Interpolated Temperature'] = temp_interpolator(reference_df['Reference Time (seconds)'])\n",
    "data_df['Temperature(°C)'] = reference_df['Interpolated Temperature']\n",
    "\n",
    "voltage_interpolator = interp1d(\n",
    "    data_df['Time_voltage'], data_df['Voltage (V)'], \n",
    "    kind='linear', bounds_error=False, fill_value='extrapolate'\n",
    ")\n",
    "reference_df['Interpolated Voltage'] = voltage_interpolator(reference_df['Reference Time (seconds)'])\n",
    "data_df['Voltage(V)'] = reference_df['Interpolated Voltage']\n",
    "\n",
    "# ensure consistent lengths\n",
    "if len(data_df['Temperature(°C)'].dropna()) < len(data_df['Voltage(V)'].dropna()):\n",
    "    data_df = data_df.iloc[:len(data_df['Temperature(°C)'].dropna())].copy()\n",
    "else:\n",
    "    data_df = data_df.iloc[:len(data_df['Voltage(V)'].dropna())].copy()\n",
    "\n",
    "# Drop rows with NaN \n",
    "data_df.dropna(subset=['Temperature(°C)', 'Voltage(V)', 'Time(s)'], inplace=True)\n",
    "\n",
    "required_columns = [\n",
    "    'Cell No', 'Time(s)', 'Load (lb)', 'Voltage(V)', 'Temperature(°C)',\n",
    "    'TC1 (°C)', 'TC2 (°C)', 'TC3 (°C)', 'TC4 (°C)', \n",
    "    'TC5 (°C)', 'TC6 (°C)', 'Observed Score', \n",
    "    'Observed Score ', 'Calculated Score', 'Capacity',\n",
    "    'SOC', 'A', 'B', 'C', 'max T', 'rate T', 'voltage Difference'\n",
    "]\n",
    "\n",
    "for col in required_columns:\n",
    "    if col not in data_df.columns:\n",
    "        data_df[col] = None  # Add missing columns as empty\n",
    "\n",
    "data_df = data_df[required_columns]\n",
    "\n",
    "output_path = r\"D:\\Thesis\\2024\\OE-NMC10Ah-45SOC_ssss.xlsx\"\n",
    "data_df.to_excel(output_path, index=False)\n",
    "\n",
    "print(f\"Processed data saved to {output_path}\")\n"
   ]
  },
  {
   "cell_type": "code",
   "execution_count": null,
   "id": "42bfa756-2c34-4e11-9641-1c7726f38d77",
   "metadata": {},
   "outputs": [],
   "source": []
  }
 ],
 "metadata": {
  "kernelspec": {
   "display_name": "Python 3 (ipykernel)",
   "language": "python",
   "name": "python3"
  },
  "language_info": {
   "codemirror_mode": {
    "name": "ipython",
    "version": 3
   },
   "file_extension": ".py",
   "mimetype": "text/x-python",
   "name": "python",
   "nbconvert_exporter": "python",
   "pygments_lexer": "ipython3",
   "version": "3.11.9"
  }
 },
 "nbformat": 4,
 "nbformat_minor": 5
}
